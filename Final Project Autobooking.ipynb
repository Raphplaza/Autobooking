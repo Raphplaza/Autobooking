{
 "cells": [
  {
   "cell_type": "code",
   "execution_count": 1,
   "metadata": {},
   "outputs": [],
   "source": [
    "from selenium import webdriver\n",
    "import datetime\n",
    "\n",
    "class Booking():\n",
    "\n",
    "    def book2slotstoday(self):\n",
    "\n",
    "        driver = webdriver.Chrome(executable_path=\"/Users/Raph/Desktop/Python/chromedriver\")\n",
    "        \n",
    "        base_url = \"http://www.wakespot.pl/nowa-rezerwacja/1/\"\n",
    "        \n",
    "        today = datetime.date.today()\n",
    "        \n",
    "        url = base_url + str(today.year) + \"-\" + str(today.month) + \"-\" + str(today.day) + \"/13\"\n",
    "        \n",
    "        driver.get(url)\n",
    "        \n",
    "        driver.maximize_window()\n",
    "        \n",
    "        if len(driver.find_elements_by_class_name(\"iCheck-helper\")) >= 2:\n",
    "            driver.find_elements_by_class_name(\"iCheck-helper\")[1].click()\n",
    "        else:\n",
    "            driver.find_elements_by_class_name(\"iCheck-helper\")[0].click()\n",
    "            \n",
    "\n",
    "        driver.find_element_by_class_name(\"btn.btn-block.btn-border-red.btn-small\").click()\n",
    "\n",
    "        time.sleep(3)\n",
    "        \n",
    "        driver.find_elements_by_class_name(\"btn.btn-block.btn-border-red.btn-small\")[1].click()\n",
    "        \n",
    "        driver.find_element_by_id(\"email\").send_keys(login)\n",
    "\n",
    "        driver.find_element_by_id(\"password\").send_keys(passw)\n",
    "\n",
    "        driver.find_element_by_class_name(\"btn.btn-block.btn-border-red\").click()\n",
    "        \n",
    "        time.sleep(3)\n",
    "        \n",
    "        driver.find_elements_by_class_name(\"iCheck-helper\")[1].click()\n",
    "        \n",
    "        time.sleep(3)\n",
    "        \n",
    "        driver.find_elements_by_class_name(\"iCheck-helper\")[2].click()        \n",
    "\n",
    "        time.sleep(3)\n",
    "\n",
    "        driver.close()"
   ]
  },
  {
   "cell_type": "code",
   "execution_count": 2,
   "metadata": {},
   "outputs": [],
   "source": [
    "class WeatherCheck():\n",
    "    \n",
    "    def currentweathercheckowinska():\n",
    "        \n",
    "        import requests\n",
    "        \n",
    "        #Current weather data for Owinska/Poland\n",
    "\n",
    "        parameters = {\"lat\" : 52.512971, \"lon\": 16.993032, 'appid': '60ea8eb0727d67bb8bf78e93859cf2df',\"units\":\"metric\"}\n",
    "\n",
    "        r2 = requests.get(\"https://api.openweathermap.org/data/2.5/weather?\",params=parameters)\n",
    "\n",
    "        r2_json = r2.json()\n",
    "\n",
    "        return float(r2_json[\"main\"][\"temp_max\"])\n",
    "\n"
   ]
  },
  {
   "cell_type": "code",
   "execution_count": null,
   "metadata": {},
   "outputs": [],
   "source": [
    "if WeatherCheck.currentweathercheckowinska() > 24:\n",
    "    my_booking = Booking()\n",
    "    my_booking.book2slotstoday()\n",
    "    \n",
    "else:\n",
    "    pass"
   ]
  }
 ],
 "metadata": {
  "kernelspec": {
   "display_name": "Python 3",
   "language": "python",
   "name": "python3"
  },
  "language_info": {
   "codemirror_mode": {
    "name": "ipython",
    "version": 3
   },
   "file_extension": ".py",
   "mimetype": "text/x-python",
   "name": "python",
   "nbconvert_exporter": "python",
   "pygments_lexer": "ipython3",
   "version": "3.8.3"
  }
 },
 "nbformat": 4,
 "nbformat_minor": 4
}
